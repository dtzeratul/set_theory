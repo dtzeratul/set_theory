{
 "cells": [
  {
   "cell_type": "markdown",
   "id": "acdd17ea-1204-4509-ad9b-e20d7ba73542",
   "metadata": {},
   "source": [
    "# 1. PROVING IDENTITES\n",
    "\n",
    "Given: A and B are sets, $\\exists$ x such that (x $\\in$ A $\\land$ x $\\in$ B)<br>\n",
    "Show that:\n",
    "- A\\B = A $\\cap$ $B^{c}$ \n",
    "- B = (B $\\cap$ A) $\\cup$ (B $\\cap$ $A^{c}$)\n",
    "- B\\A = B $\\cap$ $A^{c}$\n",
    "- A $\\cup$ B = A $\\cup$ (B $\\cap$ $A^{c}$)\n",
    "- $(\\textbf{U}_{i=1}^{\\infty} A_{i}^{c})^{c}$ = $\\cap_{i=1}^{\\infty}A_{i}$\n",
    "- |A $\\cup$ B| = |A| + |B| - |A $\\cap$ B|"
   ]
  },
  {
   "cell_type": "code",
   "execution_count": 1,
   "id": "fbef5985-4294-4675-ac99-dda2b04a40e0",
   "metadata": {},
   "outputs": [],
   "source": [
    "import math\n",
    "\n",
    "# Define sets A and B\n",
    "A = {1, 2, 3, 4, 5}\n",
    "B = {2, 4, 6, 8}"
   ]
  },
  {
   "cell_type": "markdown",
   "id": "6a55f5d1-918e-4b1d-9e60-7b830453b58b",
   "metadata": {},
   "source": [
    "# A\\B = A $\\cap$ $B^{c}$\n",
    "\n",
    "\\begin{align*}\n",
    "A\\B &= \\{x \\in A \\mid x \\in B\\} \\\\\n",
    "&= \\{2, 4\\} \\\\\n",
    "&= A \\cap B^c \\\\\n",
    "\\end{align*}\n"
   ]
  },
  {
   "cell_type": "markdown",
   "id": "95831ee2-8af6-4e4d-95a3-e0ed33bf7334",
   "metadata": {},
   "source": [
    "# B = (B $\\cap$ A) $\\cup$ (B $\\cap$ $A^{c}$)\n",
    "\n",
    "\\begin{align*}\n",
    "B &= \\{x \\in B \\mid x \\in A\\} \\cup \\{x \\in B \\mid x \\notin A\\} \\\\\n",
    "&= (B \\cap A) \\cup (B \\cap A^c) \\\\\n",
    "\\end{align*}\n",
    "\n"
   ]
  },
  {
   "cell_type": "markdown",
   "id": "e44c703e-e758-4c70-8e99-88fee4a36674",
   "metadata": {},
   "source": [
    "# B\\A = B $\\cap$ $A^{c}$\n",
    "\n",
    "\\begin{align*}\n",
    "B\\A &= \\{x \\in B \\mid x \\notin A\\} \\\\\n",
    "&= B \\cap A^c \\\\\n",
    "\\end{align*}\n"
   ]
  },
  {
   "cell_type": "markdown",
   "id": "182b8800-a444-4c4f-a198-ee0ce9b9d9ed",
   "metadata": {},
   "source": [
    "# A $\\cup$ B = A $\\cup$ (B $\\cap$ $A^{c}$)\n",
    "\n",
    "\\begin{align*}\n",
    "A \\cup B &= \\{x \\in A \\mid x \\in B\\} \\cup \\{x \\in \\Omega \\mid x \\notin A\\} \\\\\n",
    "&= A \\cup (B \\cap A^c) \\\\\n",
    "\\end{align*}\n"
   ]
  },
  {
   "cell_type": "markdown",
   "id": "29ca3872-4de9-4bb5-99bd-78b6a56ab4d7",
   "metadata": {},
   "source": [
    "# $(\\textbf{U}_{i=1}^{\\infty} A_{i}^{c})^{c}$ = $\\cap_{i=1}^{\\infty}A_{i}$\n",
    "\n",
    "\\begin{align*}\n",
    "(\\textbf{U}_{i=1}^{\\infty} A_{i}^{c})^{c} &= \\{x \\in \\Omega \\mid x \\notin (\\textbf{U}_{i=1}^{\\infty} A_{i}^{c})\\} \\\\\n",
    "&= \\{x \\in \\Omega \\mid x \\in \\cap_{i=1}^{\\infty} A_{i}\\} \\\\\n",
    "&= \\cap_{i=1}^{\\infty} A_{i} \\\\\n",
    "\\end{align*}\n"
   ]
  },
  {
   "cell_type": "markdown",
   "id": "bef710fb-290f-457b-bd9e-95bb07e5525d",
   "metadata": {},
   "source": [
    "# |A $\\cup$ B| = |A| + |B| - |A $\\cap$ B|\n",
    "\n",
    "\\begin{align*}\n",
    "|A \\cup B| &= |\\{x \\in \\Omega \\mid x \\in A \\text{ or } x \\in B\\}| \\\\\n",
    "&= |A| + |B| - |\\{x \\in \\Omega \\mid x \\in A \\text{ and } x \\in B\\}| \\\\\n",
    "&= |A| + |B| - |A \\cap B| \\\\\n",
    "\\end{align*}\n",
    "\n"
   ]
  },
  {
   "cell_type": "markdown",
   "id": "070f6d3a-a3fc-4c2e-ac3d-78df36f3e250",
   "metadata": {},
   "source": [
    "# 2. Sets and Subsets\n",
    "\n",
    "   \n",
    "- If A = {2,3,4,5}, and B = {$x \\in \\mathbb{N} | x \\ is \\ even$}. Is A $\\subset$ B? Show a proof.\n",
    "- Let sets $\\textbf{A} = \\{x|x \\in \\mathbb{Z}, 0 \\leq x \\leq 9\\},\n",
    "\\textbf{B} = \\{ 2,4,6,8\\},\n",
    "\\ and \\ \n",
    "\\textbf{C}  = \\{ 1,3,5,7,9\\}\n",
    "\\ and \\ \\textbf{D}  = \\{ 3,4,5\\}$\n",
    "Find a set $\\textbf{X}$ which will satisfy the following conditions:\n",
    "    1. $\\textbf{X} \\ and \\ \\textbf{B}$ are disjoint.\n",
    "    2. $\\textbf{X} \\subseteq \\textbf{D}$ but $\\textbf{X} \\nsubseteq \\textbf{B}$.\n",
    "    3. $\\textbf{X} \\subseteq \\textbf{A}$ but $\\textbf{X} \\not\\subset \\textbf{C}$."
   ]
  },
  {
   "cell_type": "code",
   "execution_count": 2,
   "id": "0a79dfc1-a646-405f-91f3-414f320a68db",
   "metadata": {},
   "outputs": [
    {
     "data": {
      "text/latex": [
       "$\\displaystyle A = \\{2,3,4,5\\}$"
      ],
      "text/plain": [
       "<IPython.core.display.Math object>"
      ]
     },
     "metadata": {},
     "output_type": "display_data"
    },
    {
     "data": {
      "text/latex": [
       "$\\displaystyle B = \\{ x \\in \\mathbb{N} | x \\ is \\ even \\}$"
      ],
      "text/plain": [
       "<IPython.core.display.Math object>"
      ]
     },
     "metadata": {},
     "output_type": "display_data"
    },
    {
     "data": {
      "text/latex": [
       "$\\displaystyle \\forall x \\in A (x \\in B)$"
      ],
      "text/plain": [
       "<IPython.core.display.Math object>"
      ]
     },
     "metadata": {},
     "output_type": "display_data"
    },
    {
     "data": {
      "text/latex": [
       "$\\displaystyle \\therefore A \\subset B$"
      ],
      "text/plain": [
       "<IPython.core.display.Math object>"
      ]
     },
     "metadata": {},
     "output_type": "display_data"
    }
   ],
   "source": [
    "from IPython.display import display, Math\n",
    "\n",
    "A = {2,3,4,5}\n",
    "B = {x for x in range(1, 6) if x % 2 == 0}\n",
    "\n",
    "display(Math(r'A = \\{' + ','.join(map(str,A)) + r'\\}'))\n",
    "display(Math(r'B = \\{ x \\in \\mathbb{N} | x \\ is \\ even \\}'))\n",
    "display(Math(r'\\forall x \\in A (x \\in B)'))\n",
    "display(Math(r'\\therefore A \\subset B'))\n"
   ]
  },
  {
   "cell_type": "code",
   "execution_count": 3,
   "id": "6d557bd8-05d5-4004-9999-9a7153557fde",
   "metadata": {},
   "outputs": [
    {
     "data": {
      "text/latex": [
       "$\\displaystyle A = {0, 1, 2, 3, 4, 5, 6, 7, 8, 9}$"
      ],
      "text/plain": [
       "<IPython.core.display.Math object>"
      ]
     },
     "metadata": {},
     "output_type": "display_data"
    },
    {
     "data": {
      "text/latex": [
       "$\\displaystyle B = {8, 2, 4, 6}$"
      ],
      "text/plain": [
       "<IPython.core.display.Math object>"
      ]
     },
     "metadata": {},
     "output_type": "display_data"
    },
    {
     "data": {
      "text/latex": [
       "$\\displaystyle C = {1, 3, 5, 7, 9}$"
      ],
      "text/plain": [
       "<IPython.core.display.Math object>"
      ]
     },
     "metadata": {},
     "output_type": "display_data"
    },
    {
     "data": {
      "text/latex": [
       "$\\displaystyle D = {3, 4, 5}$"
      ],
      "text/plain": [
       "<IPython.core.display.Math object>"
      ]
     },
     "metadata": {},
     "output_type": "display_data"
    },
    {
     "data": {
      "text/latex": [
       "$\\displaystyle X = {3, 5}$"
      ],
      "text/plain": [
       "<IPython.core.display.Math object>"
      ]
     },
     "metadata": {},
     "output_type": "display_data"
    },
    {
     "data": {
      "text/latex": [
       "$\\displaystyle 1.\\ X\\ and\\ B\\ are\\ disjoint:\\ X\\cap B =set()$"
      ],
      "text/plain": [
       "<IPython.core.display.Math object>"
      ]
     },
     "metadata": {},
     "output_type": "display_data"
    },
    {
     "data": {
      "text/latex": [
       "$\\displaystyle 2.\\ X\\subseteq D\\ but\\ X\\nsubseteq B:\\ X\\subseteq D =True,\\ X\\nsubseteq B =False$"
      ],
      "text/plain": [
       "<IPython.core.display.Math object>"
      ]
     },
     "metadata": {},
     "output_type": "display_data"
    },
    {
     "data": {
      "text/latex": [
       "$\\displaystyle 3.\\ X\\subseteq A\\ but\\ X\\not\\subset C:\\ X\\subseteq A =True,\\ X\\not\\subset C =True$"
      ],
      "text/plain": [
       "<IPython.core.display.Math object>"
      ]
     },
     "metadata": {},
     "output_type": "display_data"
    }
   ],
   "source": [
    "from IPython.display import display, Math\n",
    "\n",
    "A = {x for x in range(0, 10)}\n",
    "B = {2,4,6,8}\n",
    "C = {1,3,5,7,9}\n",
    "D = {3,4,5}\n",
    "X = {3,5}\n",
    "\n",
    "display(Math(r'A = ' + str(A)))\n",
    "display(Math(r'B = ' + str(B)))\n",
    "display(Math(r'C = ' + str(C)))\n",
    "display(Math(r'D = ' + str(D)))\n",
    "display(Math(r'X = ' + str(X)))\n",
    "\n",
    "display(Math(r'1.\\ X\\ and\\ B\\ are\\ disjoint:\\ X\\cap B =' + str(X.intersection(B))))\n",
    "display(Math(r'2.\\ X\\subseteq D\\ but\\ X\\nsubseteq B:\\ X\\subseteq D =' + str(X.issubset(D)) + r',\\ X\\nsubseteq B =' + str(X.issubset(B))))\n",
    "display(Math(r'3.\\ X\\subseteq A\\ but\\ X\\not\\subset C:\\ X\\subseteq A =' + str(X.issubset(A)) + r',\\ X\\not\\subset C =' + str(X.issubset(C))))\n"
   ]
  },
  {
   "cell_type": "markdown",
   "id": "fa4dd8b1-9fc9-4c20-acda-fa32311798b7",
   "metadata": {},
   "source": [
    "X and B are disjoint: Since X={3,5} and B={2,4,6,8}, there are no elements in common between X and B, so they are disjoint.\n",
    "\n",
    "X⊆D but X⊈B: Since all elements of X are also elements of D, we can conclude that X⊆D. However, not all elements of X are elements of B, so we can conclude that X⊈B.\n",
    "\n",
    "X⊆A but X$\\not\\subset$C: Since all elements of X are also elements of A, we can conclude that X⊆A. However, not all elements of X are elements of C, so we can conclude that X$\\not\\subset$C."
   ]
  },
  {
   "cell_type": "markdown",
   "id": "72180416-9a65-4fd3-ae72-9f7586965ea0",
   "metadata": {},
   "source": [
    "# 3. Set Operations\n",
    "\n",
    "Given:<br>\n",
    "$\\textbf{U} = \\{1,2,3,4,5\\}$<br>\n",
    "$\\textbf{A} = \\{1,2,3,4,5\\}$<br>\n",
    "$\\textbf{B} = \\{4,5,6,7\\}$<br>\n",
    "$\\textbf{C} = \\{5,6,7,8,9\\}$<br>\n",
    "$\\textbf{D} = \\{1,3,5,7,9\\}$<br>\n",
    "$\\textbf{E} = \\{2,4,6,8\\}$<br>\n",
    "$\\textbf{F} = \\{1,5,9\\}$<br>\n",
    "- $\\textbf{C} \\oplus \\textbf{D}$\n",
    "- $\\textbf{A} \\backslash \\textbf{B}$\n",
    "- $\\textbf{B} \\backslash \\textbf{A}$\n",
    "- $\\textbf{E} \\oplus \\textbf{F}$"
   ]
  },
  {
   "cell_type": "markdown",
   "id": "44316aad-b21c-4ccb-b4f4-6a1f55e8db3a",
   "metadata": {},
   "source": [
    "from IPython.display import Latex\r\n",
    "Latex(r\"\"\"\\begin{eqnarray}\r\n",
    "C \\oplus D &=& (C \\cup D) \\backslash (C \\cap D) \\\\\r\n",
    "&=& \\{5,6,7,8,9\\} \\cup \\{1,3,5,7,9\\} \\backslash \\{5,7\\} \\\\\r\n",
    "&=& \\{1,3,5,6,7,8,9\\} \\backslash \\{5,7\\} \\\\\r\n",
    "&=& \\{1,3,6,8,9\n",
    "\\} \\\\\r\n",
    "A \\backslash B &=& A \\cap B^{c} \\\\\r\n",
    "&=& \\{1,2,3,4,5\\} \\cap \\{1,2,3\\} \\\\\r\n",
    "&=& \\{1,\n",
    "2,3\\} \\\\\r\n",
    "B \\backslash A &=& B \\cap A^{c} \\\\\r\n",
    "&=& \\{4,5,6,7\\} \\cap \\{6,7\\} \\\\\r\n",
    "&=&\n",
    " \\{6,7\\} \\\\\r\n",
    "E \\oplus F &=& (E \\cup F) \\backslash (E \\cap F) \\\\\r\n",
    "&=& \\{2,4,6,8\\} \\cup \\{1,5,9\\} \\backslash (\\varnothing) \\\\\r\n",
    "&=&  \\{1,2,4,5,6,8,9\\}\r\n",
    "\\end{eqnarray}\"\"\")\r\n"
   ]
  },
  {
   "cell_type": "code",
   "execution_count": 4,
   "id": "7832242d-99a3-4989-8861-84c93ec699cc",
   "metadata": {},
   "outputs": [
    {
     "name": "stdout",
     "output_type": "stream",
     "text": [
      "C xor D: {8, 1, 3, 6}\n",
      "A - B: {1, 2, 3}\n",
      "B - A: {6, 7}\n",
      "E xor F: {1, 2, 4, 5, 6, 8, 9}\n"
     ]
    }
   ],
   "source": [
    "U = {1, 2 ,3 ,4 ,5}\n",
    "A = {1 ,2 ,3 ,4 ,5}\n",
    "B = {4 ,5 ,6 ,7}\n",
    "C = {5 ,6 ,7 ,8 ,9}\n",
    "D = {1 ,3 ,5 ,7 ,9}\n",
    "E = {2 ,4 ,6 ,8}\n",
    "F = {1 ,5 ,9}\n",
    "\n",
    "# C xor D\n",
    "C_xor_D = (C | D) - (C & D)\n",
    "print(f'C xor D: {C_xor_D}')\n",
    "\n",
    "# A - B\n",
    "A_minus_B = A - B\n",
    "print(f'A - B: {A_minus_B}')\n",
    "\n",
    "# B - A\n",
    "B_minus_A = B - A\n",
    "print(f'B - A: {B_minus_A}')\n",
    "\n",
    "# E xor F\n",
    "E_xor_F = (E | F) - (E & F)\n",
    "print(f'E xor F: {E_xor_F}')\n"
   ]
  },
  {
   "cell_type": "markdown",
   "id": "aff7cc3a-aacb-4af3-a811-6808203c7ffe",
   "metadata": {},
   "source": [
    "# 4. Finite Sets and The Counting Principles\n",
    "---\n",
    "\n",
    "In a Survey of 120 People, it was found that:\n",
    "- 65 read Newsweek Magazine\n",
    "- 45 read Times Magazine\n",
    "- 42 read Fortune Magazine\n",
    "- 20 read Both Newsweek and Time\n",
    "- 25 read both Newsweek and Fortune\n",
    "- 15 read both Time and Fortune\n",
    "- 8 read all three magazines\n",
    "With these information do the following:<br>\n",
    "1. Draw the venn diagram using python.\n",
    "2. Find the number of people who read at $\\textbf{\"least one\"}$ of the three magazines.\n",
    "3. Find the number of people who read exactly one magazine.\n",
    "<br>\n",
    "<br>\n"
   ]
  },
  {
   "cell_type": "code",
   "execution_count": 7,
   "id": "6609e5e9-c369-49cb-a6f5-aedae780ed06",
   "metadata": {},
   "outputs": [
    {
     "data": {
      "image/png": "[encoded data removed]",
      "text/plain": [
       "<Figure size 640x480 with 1 Axes>"
      ]
     },
     "metadata": {},
     "output_type": "display_data"
    }
   ],
   "source": [
    "from matplotlib_venn import venn3\n",
    "import matplotlib.pyplot as plt\n",
    "\n",
    "# Set the values for the three sets\n",
    "newsweek = 65\n",
    "times = 45\n",
    "fortune = 42\n",
    "\n",
    "# Set the values for the pairwise intersections\n",
    "newsweek_times = 20\n",
    "newsweek_fortune = 25\n",
    "times_fortune = 15\n",
    "\n",
    "# Set the value for the intersection of all three sets\n",
    "all_three = 8\n",
    "\n",
    "# Calculate the values for each region of the Venn diagram\n",
    "newsweek_only = newsweek - newsweek_times - newsweek_fortune + all_three\n",
    "times_only = times - newsweek_times - times_fortune + all_three\n",
    "fortune_only = fortune - newsweek_fortune - times_fortune + all_three\n",
    "newsweek_times_only = newsweek_times - all_three\n",
    "newsweek_fortune_only = newsweek_fortune - all_three\n",
    "times_fortune_only = times_fortune - all_three\n",
    "\n",
    "# Draw the Venn diagram\n",
    "v = venn3(subsets=(newsweek_only, times_only, newsweek_times_only, fortune_only, newsweek_fortune_only, times_fortune_only, all_three), set_labels=('Newsweek', 'Times', 'Fortune'))\n",
    "plt.show()\n"
   ]
  },
  {
   "cell_type": "code",
   "execution_count": 6,
   "id": "77302682-e807-4adb-87cf-36968701bda3",
   "metadata": {},
   "outputs": [
    {
     "name": "stdout",
     "output_type": "stream",
     "text": [
      "Number of people who read at least one magazine: 100\n",
      "Number of people who read exactly one magazine: 56\n"
     ]
    }
   ],
   "source": [
    "# Number of people who read each magazine\n",
    "Newsweek = 65\n",
    "Times = 45\n",
    "Fortune = 42\n",
    "\n",
    "# Number of people who read both magazines\n",
    "Newsweek_Times = 20\n",
    "Newsweek_Fortune = 25\n",
    "Times_Fortune = 15\n",
    "\n",
    "# Number of people who read all three magazines\n",
    "all_three = 8\n",
    "\n",
    "# Number of people who read at least one magazine\n",
    "at_least_one = Newsweek + Times + Fortune - Newsweek_Times - Newsweek_Fortune - Times_Fortune + all_three\n",
    "print(\"Number of people who read at least one magazine:\", at_least_one)\n",
    "\n",
    "# Number of people who read exactly one magazine\n",
    "exactly_one = Newsweek + Times + Fortune - 2*(Newsweek_Times + Newsweek_Fortune + Times_Fortune) + 3*all_three\n",
    "print(\"Number of people who read exactly one magazine:\", exactly_one)"
   ]
  },
  {
   "cell_type": "markdown",
   "id": "c32a8a9a-d973-4967-9297-6ae83bbc9c8b",
   "metadata": {},
   "source": [
    "In a survey of 25 new cars being sold at a local auto dealer was conducted to see which of the three popular options: air-conditioning, denoted as A; radio, denoted as R; and power windows, denoted as W were installed. The survey found that:\n",
    "- 15 had A. HINT: The condition said $\\textbf{\"had an A\"}$  <font color='red'>$\\textbf{ AND NOT}$ <font color='black'>$\\textbf{\"had an A only\"}$\n",
    "- 12 had R. HINT: The condition said $\\textbf{\"had a R\"}$  <font color='red'>$\\textbf{ AND NOT}$ <font color='black'>$\\textbf{\"had a R only\"}$\n",
    "- 11 had W. HINT: The condition said $\\textbf{\"had a W\"}$  <font color='red'>$\\textbf{ AND NOT}$ <font color='black'>$\\textbf{\"had a W only\"}$\n",
    "- 5 had A and W.\n",
    "- 9 had A and R.\n",
    "- 4 had R and W.\n",
    "- Only 3 hace the three options.\n",
    "With these information do the following:<br>\n",
    "1. Draw the venn diagram using python.<br>\n",
    "2. Find the number of cars with W only.<br>\n",
    "3. Find the number of cars with A only.<br>\n",
    "4. Find the number of cars with R only.<br>\n",
    "5. Find the number of cars with both R and W but not A.<br>\n",
    "6. Find the number of cars with both A and R but not W.<br>\n",
    "7. Find the number of cars with only one of the options.<br>\n",
    "8. Find the number of cars with at least one option.<br>\n",
    "9. Find the number of cars with none of the Options.<br>"
   ]
  },
  {
   "cell_type": "markdown",
   "id": "2ae3337f-0bbe-42d4-9443-b94605fe1361",
   "metadata": {},
   "source": [
    "1. Draw the venn diagram using python"
   ]
  },
  {
   "cell_type": "code",
   "execution_count": 9,
   "id": "59cf21cc-5458-4a31-9951-0c7663aa2b5d",
   "metadata": {},
   "outputs": [
    {
     "data": {
      "image/png": "[encoded data removed]",
      "text/plain": [
       "<Figure size 640x480 with 1 Axes>"
      ]
     },
     "metadata": {},
     "output_type": "display_data"
    }
   ],
   "source": [
    "from matplotlib_venn import venn3\n",
    "import matplotlib.pyplot as plt\n",
    "\n",
    "# Set the values for the three sets\n",
    "A = 15\n",
    "R = 12\n",
    "W = 11\n",
    "\n",
    "# Set the values for the pairwise intersections\n",
    "A_W = 5\n",
    "A_R = 9\n",
    "R_W = 4\n",
    "\n",
    "# Set the value for the intersection of all three sets\n",
    "all_three = 3\n",
    "\n",
    "# Calculate the values for each region of the Venn diagram\n",
    "A_only = A - A_R - A_W + all_three\n",
    "R_only = R - A_R - R_W + all_three\n",
    "W_only = W - A_W - R_W + all_three\n",
    "A_R_only = A_R - all_three\n",
    "A_W_only = A_W - all_three\n",
    "R_W_only = R_W - all_three\n",
    "\n",
    "# Draw the Venn diagram\n",
    "v = venn3(subsets=(A_only, R_only, A_R_only, W_only, A_W_only, R_W_only, all_three), set_labels=('Air Conditioning', 'Radio', 'Power Windows'))\n",
    "plt.show()\n"
   ]
  },
  {
   "cell_type": "markdown",
   "id": "056f7622-0b23-4484-a6b5-252cf47a0327",
   "metadata": {},
   "source": [
    "2. Find the number of cars with W only."
   ]
  },
  {
   "cell_type": "code",
   "execution_count": 10,
   "id": "f712705a-8226-4b1f-80ee-ccbae7188178",
   "metadata": {},
   "outputs": [
    {
     "name": "stdout",
     "output_type": "stream",
     "text": [
      "Number of cars with W only: 5\n"
     ]
    }
   ],
   "source": [
    "print(f'Number of cars with W only: {W_only}')"
   ]
  },
  {
   "cell_type": "markdown",
   "id": "3ac7e06c-ec10-447d-b1b4-54708caef797",
   "metadata": {},
   "source": [
    "3. Find the number of cars with A only."
   ]
  },
  {
   "cell_type": "code",
   "execution_count": 11,
   "id": "f463c0bf-a9a9-428a-9d14-4decabcea63d",
   "metadata": {},
   "outputs": [
    {
     "name": "stdout",
     "output_type": "stream",
     "text": [
      "Number of cars with A only: 4\n"
     ]
    }
   ],
   "source": [
    "print(f'Number of cars with A only: {A_only}')"
   ]
  },
  {
   "cell_type": "markdown",
   "id": "46c4e5d0-28dd-4c09-b9e9-3986b5584315",
   "metadata": {},
   "source": [
    "4. Find the number of cars with R only."
   ]
  },
  {
   "cell_type": "code",
   "execution_count": 12,
   "id": "57e1e300-cecd-47a1-a715-2d47eebd58f2",
   "metadata": {},
   "outputs": [
    {
     "name": "stdout",
     "output_type": "stream",
     "text": [
      "Number of cars with R only: 2\n"
     ]
    }
   ],
   "source": [
    "print(f'Number of cars with R only: {R_only}')"
   ]
  },
  {
   "cell_type": "markdown",
   "id": "a01018f3-fd06-4f1c-ac39-b832f9cf38a2",
   "metadata": {},
   "source": [
    "5. Find the number of cars with both R and W but not A."
   ]
  },
  {
   "cell_type": "code",
   "execution_count": 13,
   "id": "0457b925-77a2-42df-b9f1-8e64b7a49a22",
   "metadata": {},
   "outputs": [
    {
     "name": "stdout",
     "output_type": "stream",
     "text": [
      "Number of cars with both R and W but not A: 1\n"
     ]
    }
   ],
   "source": [
    "print(f'Number of cars with both R and W but not A: {R_W_only}')"
   ]
  },
  {
   "cell_type": "markdown",
   "id": "bd5f3a93-125c-4832-a66a-da856d1ab1f2",
   "metadata": {},
   "source": [
    "6. Find the number of cars with both A and R but not W."
   ]
  },
  {
   "cell_type": "code",
   "execution_count": 14,
   "id": "26c34b6b-025d-4dd7-8a50-bb0abd659fb1",
   "metadata": {},
   "outputs": [
    {
     "name": "stdout",
     "output_type": "stream",
     "text": [
      "Number of cars with both A and R but not W: 6\n"
     ]
    }
   ],
   "source": [
    "print(f'Number of cars with both A and R but not W: {A_R_only}')"
   ]
  },
  {
   "cell_type": "markdown",
   "id": "b7d2e18b-30f1-4ad3-8662-c5f5b3863870",
   "metadata": {},
   "source": [
    "7. Find the number of cars with only one of the options."
   ]
  },
  {
   "cell_type": "code",
   "execution_count": 15,
   "id": "075eeabf-0283-4b71-8062-ecc0daab5bde",
   "metadata": {},
   "outputs": [
    {
     "name": "stdout",
     "output_type": "stream",
     "text": [
      "Number of cars with only one option: 11\n"
     ]
    }
   ],
   "source": [
    "only_one_option = A_only + R_only + W_only\n",
    "print(f'Number of cars with only one option: {only_one_option}')"
   ]
  },
  {
   "cell_type": "markdown",
   "id": "a18be02c-3e58-4207-a82d-49957a5536f8",
   "metadata": {},
   "source": [
    "8. Find the number of cars with at least one option."
   ]
  },
  {
   "cell_type": "code",
   "execution_count": 16,
   "id": "a3b87409-cf7b-47cf-98ee-ee193527d71b",
   "metadata": {},
   "outputs": [
    {
     "name": "stdout",
     "output_type": "stream",
     "text": [
      "Number of cars with at least one option: 23\n"
     ]
    }
   ],
   "source": [
    "at_least_one_option = A_only + R_only + W_only + A_R_only + A_W_only + R_W_only + all_three\n",
    "print(f'Number of cars with at least one option: {at_least_one_option}')\n"
   ]
  },
  {
   "cell_type": "markdown",
   "id": "1235f5d4-1e47-4016-8e96-56d0afb7f8aa",
   "metadata": {},
   "source": [
    "9. Find the number of cars with none of the Options."
   ]
  },
  {
   "cell_type": "code",
   "execution_count": 17,
   "id": "cad46eec-e980-43f9-827f-4d127988f166",
   "metadata": {},
   "outputs": [
    {
     "name": "stdout",
     "output_type": "stream",
     "text": [
      "Number of cars with none of the options: 2\n"
     ]
    }
   ],
   "source": [
    "none_of_the_options = 25 - at_least_one_option\n",
    "print(f'Number of cars with none of the options: {none_of_the_options}')"
   ]
  },
  {
   "cell_type": "code",
   "execution_count": null,
   "id": "36cf1630-5e85-458e-a966-4b14b5c2fbce",
   "metadata": {},
   "outputs": [],
   "source": []
  }
 ],
 "metadata": {
  "kernelspec": {
   "display_name": "Python 3 (ipykernel)",
   "language": "python",
   "name": "python3"
  },
  "language_info": {
   "codemirror_mode": {
    "name": "ipython",
    "version": 3
   },
   "file_extension": ".py",
   "mimetype": "text/x-python",
   "name": "python",
   "nbconvert_exporter": "python",
   "pygments_lexer": "ipython3",
   "version": "3.10.11"
  }
 },
 "nbformat": 4,
 "nbformat_minor": 5
}
